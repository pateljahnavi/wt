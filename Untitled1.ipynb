{
  "nbformat": 4,
  "nbformat_minor": 0,
  "metadata": {
    "colab": {
      "name": "Untitled1.ipynb",
      "provenance": [],
      "collapsed_sections": [],
      "include_colab_link": true
    },
    "kernelspec": {
      "name": "python3",
      "display_name": "Python 3"
    }
  },
  "cells": [
    {
      "cell_type": "markdown",
      "metadata": {
        "id": "view-in-github",
        "colab_type": "text"
      },
      "source": [
        "<a href=\"https://colab.research.google.com/github/pateljahnavi/wt/blob/master/Untitled1.ipynb\" target=\"_parent\"><img src=\"https://colab.research.google.com/assets/colab-badge.svg\" alt=\"Open In Colab\"/></a>"
      ]
    },
    {
      "cell_type": "code",
      "metadata": {
        "id": "fagb_mHVQinZ",
        "colab_type": "code",
        "colab": {}
      },
      "source": [
        "import torch"
      ],
      "execution_count": 0,
      "outputs": []
    },
    {
      "cell_type": "code",
      "metadata": {
        "id": "peYV7RMUQyB3",
        "colab_type": "code",
        "colab": {}
      },
      "source": [
        "def activation(x):\n",
        " y = torch.exp(-x)\n",
        " z = torch.sum(1+y)\n",
        " w = 1/(y+z)\n",
        " return w\n"
      ],
      "execution_count": 0,
      "outputs": []
    },
    {
      "cell_type": "code",
      "metadata": {
        "id": "jL2ia0RXReIg",
        "colab_type": "code",
        "colab": {
          "base_uri": "https://localhost:8080/",
          "height": 34
        },
        "outputId": "5c5ca022-c211-402e-fddd-5be625c900ce"
      },
      "source": [
        "torch.manual_seed(7)\n",
        "features = torch.randn((1,3))\n",
        "n_input = features.shape[1]\n",
        "n_hidden = 2\n",
        "n_output = 1\n",
        "W1 = torch.randn(n_input, n_hidden)\n",
        "W2 = torch.randn(n_hidden, n_output)\n",
        "B1 = torch.randn((1, n_hidden))\n",
        "B2 = torch.randn((1, n_output))\n",
        "f2 = torch.mm(features, W1)\n",
        "out_1 = activation(f2 + B1)\n",
        "out_2 = activation(torch.mm(out_1, W2) + B2)\n",
        "print(out_2)\n"
      ],
      "execution_count": 17,
      "outputs": [
        {
          "output_type": "stream",
          "text": [
            "tensor([[0.3127]])\n"
          ],
          "name": "stdout"
        }
      ]
    }
  ]
}